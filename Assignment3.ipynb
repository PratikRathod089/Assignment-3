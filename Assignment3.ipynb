{
 "cells": [
  {
   "cell_type": "markdown",
   "id": "490603a3",
   "metadata": {},
   "source": [
    "###  Q1.1 Write a Python Program to implement your own myreduce() function which works exactly\n",
    "like Python's built-in function reduce()"
   ]
  },
  {
   "cell_type": "code",
   "execution_count": 12,
   "id": "ecd54550",
   "metadata": {},
   "outputs": [],
   "source": [
    "def add(a,b):\n",
    "    return a+b\n",
    "\n",
    "\n",
    "\n",
    "def myreduce(anyfunc, sequence):\n",
    "  result = sequence[0]\n",
    "  for item in sequence[1:]:\n",
    "   result = anyfunc(result, item)\n",
    "\n",
    "  return result"
   ]
  },
  {
   "cell_type": "code",
   "execution_count": 13,
   "id": "2c30d7f0",
   "metadata": {},
   "outputs": [
    {
     "name": "stdout",
     "output_type": "stream",
     "text": [
      "output of myreduce function is : 150\n"
     ]
    }
   ],
   "source": [
    "l=[10,20,30,40,50]\n",
    "\n",
    "print(\"output of myreduce function is :\" ,myreduce(add,l))"
   ]
  },
  {
   "cell_type": "markdown",
   "id": "58d6305e",
   "metadata": {},
   "source": [
    "###  Q1.2 Write a Python program to implement your own myfilter() function which works exactly\n",
    "like Python's built-in function filter()"
   ]
  },
  {
   "cell_type": "code",
   "execution_count": 18,
   "id": "c900e9aa",
   "metadata": {},
   "outputs": [],
   "source": [
    "def positive(num):\n",
    "    if num >= 0:\n",
    "        return True\n",
    "    else: \n",
    "        return False"
   ]
  },
  {
   "cell_type": "code",
   "execution_count": 19,
   "id": "b82e90fe",
   "metadata": {},
   "outputs": [
    {
     "data": {
      "text/plain": [
       "False"
      ]
     },
     "execution_count": 19,
     "metadata": {},
     "output_type": "execute_result"
    }
   ],
   "source": [
    "positive(-3)"
   ]
  },
  {
   "cell_type": "code",
   "execution_count": 20,
   "id": "f8a8dc93",
   "metadata": {},
   "outputs": [],
   "source": [
    "L=[1,2,-4,-3,-9,5,6,-2,-56,349]"
   ]
  },
  {
   "cell_type": "code",
   "execution_count": 23,
   "id": "67db7a38",
   "metadata": {},
   "outputs": [],
   "source": [
    "def myfilter(function,input_value):\n",
    "    l = []\n",
    "    for e in input_value:\n",
    "        if function(e) == True:\n",
    "            \n",
    "            l.append(e)\n",
    "    return l\n"
   ]
  },
  {
   "cell_type": "code",
   "execution_count": 24,
   "id": "df935307",
   "metadata": {},
   "outputs": [
    {
     "name": "stdout",
     "output_type": "stream",
     "text": [
      "Output of myfilter function is:  [1, 2, 5, 6, 349]\n"
     ]
    }
   ],
   "source": [
    "print(\"Output of myfilter function is: \",list(myfilter(positive,L)))"
   ]
  },
  {
   "cell_type": "markdown",
   "id": "7ecff178",
   "metadata": {},
   "source": [
    "### Q.2. Implement List comprehensions to produce the following lists.\n",
    "Write List comprehensions to produce the following Lists"
   ]
  },
  {
   "cell_type": "markdown",
   "id": "649f5aee",
   "metadata": {},
   "source": [
    "1. ['x', 'xx', 'xxx', 'xxxx', 'y', 'yy', 'yyy', 'yyyy', 'z', 'zz', 'zzz', 'zzzz']"
   ]
  },
  {
   "cell_type": "code",
   "execution_count": 30,
   "id": "bf9e6a49",
   "metadata": {},
   "outputs": [],
   "source": [
    "Present_list = ['x','y','z']   "
   ]
  },
  {
   "cell_type": "code",
   "execution_count": 28,
   "id": "c3c61341",
   "metadata": {},
   "outputs": [],
   "source": [
    "New_list = [i*num for i in Present_list for num in range(1,5)]"
   ]
  },
  {
   "cell_type": "code",
   "execution_count": 29,
   "id": "6c271f99",
   "metadata": {},
   "outputs": [
    {
     "data": {
      "text/plain": [
       "['x', 'xx', 'xxx', 'xxxx', 'y', 'yy', 'yyy', 'yyyy', 'z', 'zz', 'zzz', 'zzzz']"
      ]
     },
     "execution_count": 29,
     "metadata": {},
     "output_type": "execute_result"
    }
   ],
   "source": [
    "New_list"
   ]
  },
  {
   "cell_type": "markdown",
   "id": "59c5439b",
   "metadata": {},
   "source": [
    "2. ['x', 'y', 'z', 'xx', 'yy', 'zz', 'xxx', 'yyy', 'zzz', 'xxxx', 'yyyy', 'zzzz']"
   ]
  },
  {
   "cell_type": "code",
   "execution_count": 31,
   "id": "9a07ad5a",
   "metadata": {},
   "outputs": [],
   "source": [
    "New_list1 = [i*num for num in range(1,5) for i in Present_list]"
   ]
  },
  {
   "cell_type": "code",
   "execution_count": 32,
   "id": "2ca2a416",
   "metadata": {},
   "outputs": [
    {
     "data": {
      "text/plain": [
       "['x', 'y', 'z', 'xx', 'yy', 'zz', 'xxx', 'yyy', 'zzz', 'xxxx', 'yyyy', 'zzzz']"
      ]
     },
     "execution_count": 32,
     "metadata": {},
     "output_type": "execute_result"
    }
   ],
   "source": [
    "New_list1"
   ]
  },
  {
   "cell_type": "markdown",
   "id": "71d14729",
   "metadata": {},
   "source": [
    "3. [[2], [3], [4], [3], [4], [5], [4], [5], [6]] "
   ]
  },
  {
   "cell_type": "code",
   "execution_count": 46,
   "id": "b1a6b5e6",
   "metadata": {},
   "outputs": [],
   "source": [
    "Initial_lst = [2,3,4]\n",
    "new_list = [[n+i ]for n in Initial_lst for i in range(3)]"
   ]
  },
  {
   "cell_type": "code",
   "execution_count": 47,
   "id": "fb6f2831",
   "metadata": {},
   "outputs": [
    {
     "data": {
      "text/plain": [
       "[[2], [3], [4], [3], [4], [5], [4], [5], [6]]"
      ]
     },
     "execution_count": 47,
     "metadata": {},
     "output_type": "execute_result"
    }
   ],
   "source": [
    "new_list"
   ]
  },
  {
   "cell_type": "markdown",
   "id": "8f92fb2f",
   "metadata": {},
   "source": [
    "4. [[2, 3, 4, 5], [3, 4, 5, 6],\n",
    "[4, 5, 6, 7], [5, 6, 7, 8]]"
   ]
  },
  {
   "cell_type": "code",
   "execution_count": 50,
   "id": "f9e8e0fc",
   "metadata": {},
   "outputs": [
    {
     "data": {
      "text/plain": [
       "[[2, 3, 4, 5], [3, 4, 5, 6], [4, 5, 6, 7], [5, 6, 7, 8]]"
      ]
     },
     "execution_count": 50,
     "metadata": {},
     "output_type": "execute_result"
    }
   ],
   "source": [
    "num_list = [2, 3, 4, 5]\n",
    "new_lst = [[e+n for e in num_list] for n in range(4)]\n",
    "new_lst"
   ]
  },
  {
   "cell_type": "markdown",
   "id": "a0f7134a",
   "metadata": {},
   "source": [
    "5.[(1, 1), (2, 1), (3, 1), (1, 2), (2, 2), (3, 2), (1, 3), (2, 3), (3, 3)]"
   ]
  },
  {
   "cell_type": "code",
   "execution_count": 52,
   "id": "3e8a394f",
   "metadata": {},
   "outputs": [
    {
     "data": {
      "text/plain": [
       "[(1, 1), (2, 1), (3, 1), (1, 2), (2, 2), (3, 2), (1, 3), (2, 3), (3, 3)]"
      ]
     },
     "execution_count": 52,
     "metadata": {},
     "output_type": "execute_result"
    }
   ],
   "source": [
    "num_list = [1, 2, 3]\n",
    "new_list = [(ele, num) for num in num_list for ele in num_list]\n",
    "new_list"
   ]
  },
  {
   "cell_type": "code",
   "execution_count": null,
   "id": "e2434ea1",
   "metadata": {},
   "outputs": [],
   "source": []
  }
 ],
 "metadata": {
  "kernelspec": {
   "display_name": "Python 3",
   "language": "python",
   "name": "python3"
  },
  "language_info": {
   "codemirror_mode": {
    "name": "ipython",
    "version": 3
   },
   "file_extension": ".py",
   "mimetype": "text/x-python",
   "name": "python",
   "nbconvert_exporter": "python",
   "pygments_lexer": "ipython3",
   "version": "3.8.8"
  }
 },
 "nbformat": 4,
 "nbformat_minor": 5
}
